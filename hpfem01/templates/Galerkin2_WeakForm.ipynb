{
 "cells": [
  {
   "cell_type": "code",
   "execution_count": null,
   "metadata": {
    "collapsed": true
   },
   "outputs": [],
   "source": [
    "from dolfin import *\n",
    "        \n",
    "mesh = UnitSquareMesh(32, 32)\n",
    "V = FunctionSpace(mesh, \"Lagrange\", 1)\n",
    "        \n",
    "def boundary(x, on_boundary):\n",
    "    return on_boundary\n",
    "    \n",
    "u0 = Expression(\"cos(10*x[0])\", degree=2)\n",
    "bc = DirichletBC(V, u0, boundary)\n",
    "        \n",
    "u = TrialFunction(V)\n",
    "v = TestFunction(V)\n",
    "f = Expression(\"(x[0] - 0.5)*(x[0] - 0.5)\", degree=2)\n",
    "        \n",
    "# Missing variational formulation\n",
    "a =\n",
    "L =\n",
    "        \n",
    "u = Function(V)\n",
    "solve(a == L, u, bc)\n",
    "        \n",
    "print \"The norm of u is {}\".format(u.vector().norm(\"l2\"))"
   ]
  }
 ],
 "metadata": {
  "kernelspec": {
   "display_name": "Python 2",
   "language": "python",
   "name": "python2"
  },
  "language_info": {
   "codemirror_mode": {
    "name": "ipython",
    "version": 2
   },
   "file_extension": ".py",
   "mimetype": "text/x-python",
   "name": "python",
   "nbconvert_exporter": "python",
   "pygments_lexer": "ipython2",
   "version": "2.7.6"
  }
 },
 "nbformat": 4,
 "nbformat_minor": 0
}
