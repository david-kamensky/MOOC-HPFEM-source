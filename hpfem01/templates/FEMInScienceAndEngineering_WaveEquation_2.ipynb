{
 "cells": [
  {
   "cell_type": "code",
   "execution_count": null,
   "metadata": {
    "collapsed": false
   },
   "outputs": [],
   "source": [
    "%matplotlib inline                                                         \n",
    "%run /home/fenics/fenics-matplotlib.py                                                                                                                                                                                                                        \n",
    "from dolfin import *; from mshr import *; from IPython.display import display, clear_output; import time\n",
    "import logging; logging.getLogger('FFC').setLevel(logging.WARNING)\n",
    "\n",
    "import numpy as np\n",
    "\n",
    "set_log_active(False)\n",
    "\n",
    "def plot_compact(u, t, stepcounter): # Compact plot utility function\n",
    "    if stepcounter % 5 == 0:\n",
    "        ax.cla(); fig = plt.gcf(); fig.set_size_inches(16, 6.5)\n",
    "        plt.subplot(1, 2, 1); mplot_function(u); plt.title(\"Wave\") # Plot norm of velocity\n",
    "        plt.colorbar(); # plt.axis(G)\n",
    "        plt.subplot(1, 2, 2);\n",
    "        plt.triplot(mesh2triang(mesh)); plt.title(\"Mesh\") # Plot mesh\n",
    "        plt.suptitle(\"Wave - t: %f\" % (t)); plt.tight_layout(); clear_output(wait=True); display(pl)   \n",
    "XMIN, XMAX = -1.0, 1.0;\n",
    "YMIN, YMAX = -1.0, 1.0;\n",
    "G = [XMIN, XMAX, YMIN, YMAX];\n",
    "mresolution = 20;\n",
    "\n",
    "mesh = RectangleMesh(Point(XMIN,YMIN), Point(XMAX, YMAX), mresolution, mresolution, 'crossed')\n",
    "\n",
    "Q = FunctionSpace(mesh, \"CG\", 1); W = Q * Q; h = CellSize(mesh);\n",
    "(p, q) = TestFunctions(W); w = Function(W); (u, v) = (w[0], w[1]);\n",
    "u0 = Function(Q); v0 = Function(Q);\n",
    "\n",
    "k = 0.000005; t = 0; T = 0.001\n",
    "a = 3000;\n",
    "\n",
    "eps = 1e-2\n",
    "\n",
    "source_u = Expression(\"sin(-a * 10* t)\", a=a, t=0, domain=mesh);\n",
    "source_v = Expression(\"-a*10*cos(-a * 10* t)\", a=a, t=0, domain=mesh);\n",
    "\n",
    "mk0 = Expression(\"(sqrt((x[0]-xc)*(x[0]-xc)+(x[1]-yc)*(x[1]-yc))<eps)\", xc=(XMIN+XMAX)/2.0 , yc=(YMIN+YMAX)/2.0, eps=eps, domain=mesh);\n",
    "mk1 = Expression(\"(sqrt((x[0]-xc)*(x[0]-xc)+(x[1]-yc)*(x[1]-yc))<eps)\", xc=XMIN , yc=(YMIN+YMAX)/2.0, eps=eps, domain=mesh);\n",
    "mk2 = Expression(\"(sqrt((x[0]-xc)*(x[0]-xc)+(x[1]-yc)*(x[1]-yc))<eps)\", xc=XMAX , yc=(YMIN+YMAX)/2.0, eps=eps, domain=mesh);\n",
    "mk3 = Expression(\"(sqrt((x[0]-xc)*(x[0]-xc)+(x[1]-yc)*(x[1]-yc))<eps)\", xc=(XMIN+XMAX)/2.0 , yc=YMIN, eps=eps, domain=mesh);\n",
    "mk4 = Expression(\"(sqrt((x[0]-xc)*(x[0]-xc)+(x[1]-yc)*(x[1]-yc))<eps)\", xc=(XMIN+XMAX)/2.0 , yc=YMAX, eps=eps, domain=mesh);\n",
    "\n",
    "mk = mk1\n",
    "\n",
    "gamma = 1e6\n",
    "theta = 0.5;\n",
    "while t < T: # Time-stepping loop        \n",
    "    vm = theta*v + (1.0-theta)*v0;\n",
    "    um = theta*u + (1.0-theta)*u0;\n",
    "    source_u.t = t\n",
    "    source_v.t = t\n",
    "    \n",
    "    ru_bc = gamma*mk*(u-source_u)*p*dx\n",
    "    rv_bc = gamma*mk*(v-source_v)*q*dx\n",
    "    \n",
    "    ru=(u-u0)/k*p*dx - vm*p*dx + ru_bc\n",
    "    rv=(v-v0)/k*q*dx + a*a*inner(grad(um),grad(q))*dx + rv_bc\n",
    "    r = ru + rv;\n",
    "    \n",
    "    solve(r==0, w);\n",
    "    \n",
    "    # Shift to next timestep                                                     \n",
    "    u0 = project(u, Q);\n",
    "    v0 = project(v, Q);\n",
    "\n",
    "    # visualize the solution\n",
    "    pl, ax = plt.subplots();\n",
    "    plot_compact(u0, t, 0)\n",
    "    plt.close();\n",
    "    t += k;"
   ]
  },
  {
   "cell_type": "code",
   "execution_count": null,
   "metadata": {
    "collapsed": true
   },
   "outputs": [],
   "source": []
  }
 ],
 "metadata": {
  "kernelspec": {
   "display_name": "Python 2",
   "language": "python",
   "name": "python2"
  },
  "language_info": {
   "codemirror_mode": {
    "name": "ipython",
    "version": 2
   },
   "file_extension": ".py",
   "mimetype": "text/x-python",
   "name": "python",
   "nbconvert_exporter": "python",
   "pygments_lexer": "ipython2",
   "version": "2.7.6"
  }
 },
 "nbformat": 4,
 "nbformat_minor": 0
}
